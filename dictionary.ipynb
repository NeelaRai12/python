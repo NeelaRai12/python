{
 "cells": [
  {
   "cell_type": "code",
   "execution_count": 1,
   "metadata": {},
   "outputs": [
    {
     "data": {
      "text/plain": [
       "dict"
      ]
     },
     "execution_count": 1,
     "metadata": {},
     "output_type": "execute_result"
    }
   ],
   "source": [
    "a = {}\n",
    "type(a)"
   ]
  },
  {
   "cell_type": "code",
   "execution_count": 3,
   "metadata": {},
   "outputs": [],
   "source": [
    "# a = {<key>:<value>,<key>:<value>,...}"
   ]
  },
  {
   "cell_type": "code",
   "execution_count": 4,
   "metadata": {},
   "outputs": [
    {
     "name": "stdout",
     "output_type": "stream",
     "text": [
      "{'A': 'Apple', 'B': 'Ball'}\n"
     ]
    }
   ],
   "source": [
    "a = {'A':'Apple','B':'Ball'}\n",
    "print(a)"
   ]
  },
  {
   "cell_type": "code",
   "execution_count": 5,
   "metadata": {},
   "outputs": [],
   "source": [
    "# indexed\n",
    "# deuplicate members\n",
    "# ordered\n",
    "# mutable"
   ]
  },
  {
   "cell_type": "code",
   "execution_count": 6,
   "metadata": {},
   "outputs": [
    {
     "data": {
      "text/plain": [
       "'Ball'"
      ]
     },
     "execution_count": 6,
     "metadata": {},
     "output_type": "execute_result"
    }
   ],
   "source": [
    "a['B']"
   ]
  },
  {
   "cell_type": "code",
   "execution_count": 7,
   "metadata": {},
   "outputs": [
    {
     "data": {
      "text/plain": [
       "{'A': 'Apple', 'B': 'Ball', 'a': 'Apple'}"
      ]
     },
     "execution_count": 7,
     "metadata": {},
     "output_type": "execute_result"
    }
   ],
   "source": [
    "a = {'A':'Apple','B':'Ball','a':'Apple'}\n",
    "a"
   ]
  },
  {
   "cell_type": "code",
   "execution_count": 8,
   "metadata": {},
   "outputs": [
    {
     "name": "stdout",
     "output_type": "stream",
     "text": [
      "{'A': 'Ant', 'B': 'Ball'}\n"
     ]
    }
   ],
   "source": [
    "a = {'A': 'Apple', 'B': 'Ball'}\n",
    "a['A'] = 'Ant'\n",
    "print(a)"
   ]
  },
  {
   "cell_type": "code",
   "execution_count": 9,
   "metadata": {},
   "outputs": [
    {
     "data": {
      "text/plain": [
       "{'A': 'Apple'}"
      ]
     },
     "execution_count": 9,
     "metadata": {},
     "output_type": "execute_result"
    }
   ],
   "source": [
    "a = {}\n",
    "a['A'] = \"Apple\"\n",
    "a"
   ]
  },
  {
   "cell_type": "code",
   "execution_count": 11,
   "metadata": {},
   "outputs": [
    {
     "name": "stdout",
     "output_type": "stream",
     "text": [
      "Enter name = Rajesh\n",
      "Enter phone = 8563214\n",
      "Enter name = Ramu\n",
      "Enter phone = 98564712\n",
      "Enter name = Rita\n",
      "Enter phone = 98564123\n",
      "{'Rajesh': 8563214, 'Ramu': 98564712, 'Rita': 98564123}\n"
     ]
    }
   ],
   "source": [
    "info = {}\n",
    "for i in range(3):\n",
    "    name = input(\"Enter name = \")\n",
    "    phone = int(input(\"Enter phone = \"))\n",
    "    info[name] = phone\n",
    "    \n",
    "print(info)"
   ]
  },
  {
   "cell_type": "code",
   "execution_count": 12,
   "metadata": {},
   "outputs": [
    {
     "name": "stdout",
     "output_type": "stream",
     "text": [
      "Rajesh\n",
      "Ramu\n",
      "Rita\n"
     ]
    }
   ],
   "source": [
    "for i in info:\n",
    "    print(i)"
   ]
  },
  {
   "cell_type": "code",
   "execution_count": 13,
   "metadata": {},
   "outputs": [
    {
     "name": "stdout",
     "output_type": "stream",
     "text": [
      "8563214\n",
      "98564712\n",
      "98564123\n"
     ]
    }
   ],
   "source": [
    "for i in info.values():\n",
    "    print(i)"
   ]
  },
  {
   "cell_type": "code",
   "execution_count": 14,
   "metadata": {},
   "outputs": [
    {
     "name": "stdout",
     "output_type": "stream",
     "text": [
      "('Rajesh', 8563214)\n",
      "('Ramu', 98564712)\n",
      "('Rita', 98564123)\n"
     ]
    }
   ],
   "source": [
    "for i in info.items():\n",
    "    print(i)"
   ]
  },
  {
   "cell_type": "code",
   "execution_count": 15,
   "metadata": {},
   "outputs": [
    {
     "data": {
      "text/plain": [
       "{'A': 'Apple', 'B': 'Ball'}"
      ]
     },
     "execution_count": 15,
     "metadata": {},
     "output_type": "execute_result"
    }
   ],
   "source": [
    "a = {'A':'Apple'}\n",
    "b = {'B':'Ball'}\n",
    "a.update(b)\n",
    "a"
   ]
  },
  {
   "cell_type": "code",
   "execution_count": 16,
   "metadata": {},
   "outputs": [
    {
     "name": "stdout",
     "output_type": "stream",
     "text": [
      "{'B': 'Ball'}\n"
     ]
    }
   ],
   "source": [
    "del a['A']\n",
    "print(a)"
   ]
  },
  {
   "cell_type": "code",
   "execution_count": 17,
   "metadata": {},
   "outputs": [
    {
     "data": {
      "text/plain": [
       "'Apple'"
      ]
     },
     "execution_count": 17,
     "metadata": {},
     "output_type": "execute_result"
    }
   ],
   "source": [
    "a = {'A': 'Apple', 'B': 'Ball'}\n",
    "a.pop('A')"
   ]
  },
  {
   "cell_type": "code",
   "execution_count": 18,
   "metadata": {},
   "outputs": [
    {
     "data": {
      "text/plain": [
       "{'B': 'Ball'}"
      ]
     },
     "execution_count": 18,
     "metadata": {},
     "output_type": "execute_result"
    }
   ],
   "source": [
    "a"
   ]
  },
  {
   "cell_type": "code",
   "execution_count": 19,
   "metadata": {},
   "outputs": [],
   "source": [
    "# list inside dicts"
   ]
  },
  {
   "cell_type": "code",
   "execution_count": 20,
   "metadata": {},
   "outputs": [
    {
     "name": "stdout",
     "output_type": "stream",
     "text": [
      "{'Ram': ['Movie', 'Reading Books'], 'Shyam': ['Movie', 'Tick Tok']}\n"
     ]
    }
   ],
   "source": [
    "a = {'Ram':['Movie','Reading Books'],'Shyam':['Movie','Tick Tok']}\n",
    "print(a)"
   ]
  },
  {
   "cell_type": "code",
   "execution_count": 21,
   "metadata": {},
   "outputs": [
    {
     "data": {
      "text/plain": [
       "['Movie', 'Reading Books']"
      ]
     },
     "execution_count": 21,
     "metadata": {},
     "output_type": "execute_result"
    }
   ],
   "source": [
    "a['Ram']"
   ]
  },
  {
   "cell_type": "code",
   "execution_count": 22,
   "metadata": {},
   "outputs": [
    {
     "data": {
      "text/plain": [
       "[9841232234, 9808556543]"
      ]
     },
     "execution_count": 22,
     "metadata": {},
     "output_type": "execute_result"
    }
   ],
   "source": [
    "a = {'Ram':[9841232234,9808556543],'Shyam':[9843556763,9808556512]}\n",
    "a['Ram']"
   ]
  },
  {
   "cell_type": "code",
   "execution_count": 23,
   "metadata": {},
   "outputs": [
    {
     "data": {
      "text/plain": [
       "{'Ram': [9841232234, 9808556543],\n",
       " 'Shyam': [9843556763, 9808556512],\n",
       " 'Hari': [9843556543, 9890876654]}"
      ]
     },
     "execution_count": 23,
     "metadata": {},
     "output_type": "execute_result"
    }
   ],
   "source": [
    "a['Hari'] = [9843556543,9890876654]\n",
    "a"
   ]
  },
  {
   "cell_type": "code",
   "execution_count": 24,
   "metadata": {},
   "outputs": [
    {
     "data": {
      "text/plain": [
       "{'Ram': [9843009988, 9808556543],\n",
       " 'Shyam': [9843556763, 9808556512],\n",
       " 'Hari': [9843556543, 9890876654]}"
      ]
     },
     "execution_count": 24,
     "metadata": {},
     "output_type": "execute_result"
    }
   ],
   "source": [
    "a['Ram'][0] = 9843009988\n",
    "a"
   ]
  },
  {
   "cell_type": "code",
   "execution_count": 25,
   "metadata": {},
   "outputs": [],
   "source": [
    "a = {'NTC':[9843009988,9843556763,9843556543],\n",
    "    'NCELL':[9808556543,9808556512,9890876654],\n",
    "    'Name':['Ram','Shyam','Hari']}"
   ]
  },
  {
   "cell_type": "code",
   "execution_count": 26,
   "metadata": {},
   "outputs": [
    {
     "name": "stdout",
     "output_type": "stream",
     "text": [
      "Enter n = 2\n",
      "Enter name = Rima\n",
      "Enter ntc no = 98421563\n",
      "Enter ncell no = 9812365\n",
      "Enter name = Nima\n",
      "Enter ntc no = 841752\n",
      "Enter ncell no = 980125\n",
      "{'Name': ['Rima', 'Nima'], 'Ntc': ['98421563', '841752'], 'Ncell': ['9812365', '980125']}\n"
     ]
    }
   ],
   "source": [
    "a = {}\n",
    "ntc = []\n",
    "ncell = []\n",
    "name = []\n",
    "\n",
    "n = int(input(\"Enter n = \"))\n",
    "for i in range(n):\n",
    "    na = input(\"Enter name = \")\n",
    "    nt = input(\"Enter ntc no = \")\n",
    "    nc = input(\"Enter ncell no = \")\n",
    "    name.append(na)\n",
    "    ntc.append(nt)\n",
    "    ncell.append(nc)\n",
    "    \n",
    "# a = {'Name':name,'Ntc':ntc,'Ncell':ncell}\n",
    "a['Name'] = name\n",
    "a['Ntc'] = ntc\n",
    "a['Ncell']=ncell\n",
    "print(a)"
   ]
  },
  {
   "cell_type": "code",
   "execution_count": 27,
   "metadata": {},
   "outputs": [
    {
     "name": "stdout",
     "output_type": "stream",
     "text": [
      "Enter n = 2\n",
      "Enter name = Rash\n",
      "Enter ntc no = 985632\n",
      "Enter ncell no = 9801236\n",
      "Enter name = Rimi\n",
      "Enter ntc no = 9841632\n",
      "Enter ncell no = 9801236\n",
      "{'Rash': ['985632', '9801236'], 'Rimi': ['9841632', '9801236']}\n"
     ]
    }
   ],
   "source": [
    "# a = {'Ram':[9841232234,9808556543],'Shyam':[9843556763,9808556512]}\n",
    "a = {}\n",
    "n = int(input(\"Enter n = \"))\n",
    "for i in range(n):\n",
    "    na = input(\"Enter name = \")\n",
    "    nt = input(\"Enter ntc no = \")\n",
    "    nc = input(\"Enter ncell no = \")\n",
    "    a[na] = [nt,nc]\n",
    "print(a)"
   ]
  },
  {
   "cell_type": "code",
   "execution_count": 28,
   "metadata": {},
   "outputs": [
    {
     "name": "stdout",
     "output_type": "stream",
     "text": [
      "Enter n = 2\n",
      "Enter name = Ram\n",
      "Enter ntc no = 9812345\n",
      "Enter ncell no = 901032\n",
      "Enter name = shyam\n",
      "Enter ntc no = 9861235\n",
      "Enter ncell no = 98012365\n",
      "{'Ram': ('9812345', '901032'), 'shyam': ('9861235', '98012365')}\n"
     ]
    }
   ],
   "source": [
    "# tuple inside dicts\n",
    "# {'Ram': ('9841556540', '98085578677'), 'Shyam': ('98417897', '98086757')}\n",
    "a = {}\n",
    "n = int(input(\"Enter n = \"))\n",
    "for i in range(n):\n",
    "    na = input(\"Enter name = \")\n",
    "    nt = input(\"Enter ntc no = \")\n",
    "    nc = input(\"Enter ncell no = \")\n",
    "    a[na] = (nt,nc)\n",
    "print(a)"
   ]
  },
  {
   "cell_type": "code",
   "execution_count": 29,
   "metadata": {},
   "outputs": [
    {
     "name": "stdout",
     "output_type": "stream",
     "text": [
      "{'Ram': {'NTC': 9843556789, 'NCELL': 9808556543}, 'Shyam': {'NTC': 9843556756, 'NCELL': 9808556512}}\n"
     ]
    }
   ],
   "source": [
    "# dicts inside dicts\n",
    "# a = {'<key>':<dicts>,'<key>':<dicts>,}\n",
    "a = {'Ram':{'NTC':9843556789,'NCELL':9808556543},\n",
    "    'Shyam':{'NTC':9843556756,'NCELL':9808556512}}\n",
    "print(a)"
   ]
  },
  {
   "cell_type": "code",
   "execution_count": 30,
   "metadata": {},
   "outputs": [
    {
     "name": "stdout",
     "output_type": "stream",
     "text": [
      "('Ram', {'NTC': 9843556789, 'NCELL': 9808556543})\n",
      "('Shyam', {'NTC': 9843556756, 'NCELL': 9808556512})\n"
     ]
    }
   ],
   "source": [
    "for i in a.items():\n",
    "    print(i)"
   ]
  },
  {
   "cell_type": "code",
   "execution_count": 31,
   "metadata": {},
   "outputs": [
    {
     "data": {
      "text/plain": [
       "9808556543"
      ]
     },
     "execution_count": 31,
     "metadata": {},
     "output_type": "execute_result"
    }
   ],
   "source": [
    "a['Ram']['NCELL']"
   ]
  },
  {
   "cell_type": "code",
   "execution_count": 32,
   "metadata": {},
   "outputs": [
    {
     "name": "stdout",
     "output_type": "stream",
     "text": [
      "{'Ram': {'NTC': 9843556789, 'NCELL': 9808556543}, 'Shyam': {'NTC': 9843556756, 'NCELL': 9808556512}, 'Hari': {'NTC': 9878776543, 'NCELL': 9808667654}}\n"
     ]
    }
   ],
   "source": [
    "# Addind elements and values\n",
    "a = {'Ram': {'NTC': 9843556789, 'NCELL': 9808556543}, \n",
    "     'Shyam': {'NTC': 9843556756, 'NCELL': 9808556512}}\n",
    "a['Hari'] = {'NTC':9878776543,'NCELL':9808667654}\n",
    "print(a)"
   ]
  },
  {
   "cell_type": "code",
   "execution_count": 33,
   "metadata": {},
   "outputs": [],
   "source": [
    "a['Hari']['NCELL'] = 535345345"
   ]
  },
  {
   "cell_type": "code",
   "execution_count": 34,
   "metadata": {},
   "outputs": [
    {
     "name": "stdout",
     "output_type": "stream",
     "text": [
      "Enter n = 2\n",
      "Enter name = Nisha\n",
      "Enter ntc no = 9874522\n",
      "Enter ncell no = 9812365\n",
      "Enter name = Neha\n",
      "Enter ntc no = 9845632\n",
      "Enter ncell no = 980123\n",
      "{'Nisha': {'NTC': '9874522', 'NCELL': '9812365'}, 'Neha': {'NTC': '9845632', 'NCELL': '980123'}}\n"
     ]
    }
   ],
   "source": [
    "a = {}\n",
    "n = int(input(\"Enter n = \"))\n",
    "for i in range(n):\n",
    "    na = input(\"Enter name = \")\n",
    "    nt = input(\"Enter ntc no = \")\n",
    "    nc = input(\"Enter ncell no = \")\n",
    "    a[na] = {'NTC':nt,'NCELL':nc}\n",
    "print(a)"
   ]
  },
  {
   "cell_type": "code",
   "execution_count": 35,
   "metadata": {},
   "outputs": [
    {
     "data": {
      "text/plain": [
       "{'A': 'Apple', 'B': 'Ball'}"
      ]
     },
     "execution_count": 35,
     "metadata": {},
     "output_type": "execute_result"
    }
   ],
   "source": [
    "a = {'A':\"Apple\",'B':'Ball'}\n",
    "a"
   ]
  },
  {
   "cell_type": "code",
   "execution_count": 36,
   "metadata": {},
   "outputs": [
    {
     "ename": "TypeError",
     "evalue": "unhashable type: 'list'",
     "output_type": "error",
     "traceback": [
      "\u001b[1;31m---------------------------------------------------------------------------\u001b[0m",
      "\u001b[1;31mTypeError\u001b[0m                                 Traceback (most recent call last)",
      "\u001b[1;32m<ipython-input-36-e1ad519e0787>\u001b[0m in \u001b[0;36m<module>\u001b[1;34m\u001b[0m\n\u001b[1;32m----> 1\u001b[1;33m \u001b[0mb\u001b[0m \u001b[1;33m=\u001b[0m \u001b[1;33m{\u001b[0m\u001b[1;33m[\u001b[0m\u001b[1;34m\"Apple\"\u001b[0m\u001b[1;33m,\u001b[0m\u001b[1;34m\"Ant\"\u001b[0m\u001b[1;33m]\u001b[0m\u001b[1;33m:\u001b[0m\u001b[1;34m\"A\"\u001b[0m\u001b[1;33m}\u001b[0m\u001b[1;33m\u001b[0m\u001b[1;33m\u001b[0m\u001b[0m\n\u001b[0m\u001b[0;32m      2\u001b[0m \u001b[0ma\u001b[0m\u001b[1;33m\u001b[0m\u001b[1;33m\u001b[0m\u001b[0m\n",
      "\u001b[1;31mTypeError\u001b[0m: unhashable type: 'list'"
     ]
    }
   ],
   "source": [
    "b = {[\"Apple\",\"Ant\"]:\"A\"}\n",
    "a"
   ]
  },
  {
   "cell_type": "code",
   "execution_count": 37,
   "metadata": {},
   "outputs": [],
   "source": [
    "b = {(\"Apple\",\"Ant\"):\"A\"}"
   ]
  },
  {
   "cell_type": "code",
   "execution_count": 38,
   "metadata": {},
   "outputs": [],
   "source": [
    "# student result\n",
    "# accounting\n",
    "# CRUD of any certain record"
   ]
  },
  {
   "cell_type": "code",
   "execution_count": null,
   "metadata": {},
   "outputs": [],
   "source": []
  }
 ],
 "metadata": {
  "kernelspec": {
   "display_name": "Python 3",
   "language": "python",
   "name": "python3"
  },
  "language_info": {
   "codemirror_mode": {
    "name": "ipython",
    "version": 3
   },
   "file_extension": ".py",
   "mimetype": "text/x-python",
   "name": "python",
   "nbconvert_exporter": "python",
   "pygments_lexer": "ipython3",
   "version": "3.8.6"
  }
 },
 "nbformat": 4,
 "nbformat_minor": 4
}
