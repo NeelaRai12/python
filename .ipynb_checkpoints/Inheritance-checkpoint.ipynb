{
 "cells": [
  {
   "cell_type": "code",
   "execution_count": 1,
   "metadata": {},
   "outputs": [],
   "source": [
    "class Info:\n",
    "    pass\n",
    "\n",
    "class Data(Info):\n",
    "    pass\n",
    "\n",
    "obj = Data()"
   ]
  },
  {
   "cell_type": "code",
   "execution_count": 2,
   "metadata": {},
   "outputs": [
    {
     "name": "stdout",
     "output_type": "stream",
     "text": [
      "This is Info class \n",
      "This is Data class \n"
     ]
    }
   ],
   "source": [
    "class Info:\n",
    "    print(\"This is Info class \")\n",
    "\n",
    "class Data(Info):\n",
    "    print(\"This is Data class \")\n",
    "\n",
    "obj = Data()"
   ]
  },
  {
   "cell_type": "code",
   "execution_count": 2,
   "metadata": {},
   "outputs": [],
   "source": [
    " class A:\n",
    "    pass\n",
    "class B(A):\n",
    "    pass\n",
    "class C(B):\n",
    "    pass\n",
    "obj = (C)"
   ]
  },
  {
   "cell_type": "code",
   "execution_count": 4,
   "metadata": {},
   "outputs": [
    {
     "name": "stdout",
     "output_type": "stream",
     "text": [
      "This is class C\n",
      "This is class B\n",
      "This is class A\n"
     ]
    }
   ],
   "source": [
    " class A:\n",
    "    def a(self):\n",
    "        print(\"This is class A\")\n",
    "class B(A):\n",
    "     def b(self):\n",
    "        print(\"This is class B\")\n",
    "class C(B):\n",
    "     def c(self):\n",
    "        print(\"This is class C\")\n",
    "obj = C()\n",
    "obj.c()\n",
    "obj.b()\n",
    "obj.a()"
   ]
  },
  {
   "cell_type": "code",
   "execution_count": 15,
   "metadata": {},
   "outputs": [
    {
     "name": "stdout",
     "output_type": "stream",
     "text": [
      "Hello my name is Bharat. I am CEO of the company. My salary is 100000\n",
      "Bharat CEO\n"
     ]
    }
   ],
   "source": [
    "class Info:\n",
    "    def __init__(self,name):\n",
    "        self.name = name\n",
    "        \n",
    "class Hr(Info):\n",
    "    def __init__(self,position):\n",
    "        self.position = position\n",
    "    def hr(self):\n",
    "        print(self.name,self.position)\n",
    "        \n",
    "class Office(Hr):\n",
    "    def __init__(self,name,position,salary):\n",
    "        Hr.__init__(self,position)\n",
    "        Info.__init__(self,name)\n",
    "        self.salary = salary\n",
    "        \n",
    "    def office(self):\n",
    "        print(f\"Hello my name is {self.name}. I am {self.position} of the company. My salary is {self.salary}\")\n",
    "    \n",
    "obj = Office(\"Bharat\",\"CEO\",100000)\n",
    "obj.office()\n",
    "obj.hr()"
   ]
  },
  {
   "cell_type": "code",
   "execution_count": 16,
   "metadata": {},
   "outputs": [
    {
     "name": "stdout",
     "output_type": "stream",
     "text": [
      "Hello my name is Bharat. I am CEO of the company. My salary is 100000\n",
      "Bharat CEO\n"
     ]
    }
   ],
   "source": [
    "class Info:\n",
    "    def __init__(self,name,position):\n",
    "        self.name = name\n",
    "        self.position = position\n",
    "        \n",
    "class Hr(Info):\n",
    "    def hr(self):\n",
    "        print(self.name,self.position)\n",
    "        \n",
    "class Office(Hr):\n",
    "    def __init__(self,name,position,salary):\n",
    "        Info.__init__(self,name,position)\n",
    "        self.salary = salary\n",
    "        \n",
    "    def office(self):\n",
    "        print(f\"Hello my name is {self.name}. I am {self.position} of the company. My salary is {self.salary}\")\n",
    "    \n",
    "obj = Office(\"Bharat\",\"CEO\",100000)\n",
    "obj.office()\n",
    "obj.hr()"
   ]
  },
  {
   "cell_type": "code",
   "execution_count": 20,
   "metadata": {},
   "outputs": [
    {
     "name": "stdout",
     "output_type": "stream",
     "text": [
      "Hello my name is Bharat. I am CEO of the company. My salary is 100000\n",
      "CEO\n",
      "Bharat\n"
     ]
    }
   ],
   "source": [
    "  class Info:\n",
    "    def __init__(self,name):\n",
    "        self.name = name\n",
    "        \n",
    "    def hrs(self):\n",
    "        print(self.name)\n",
    "        \n",
    "        \n",
    "class Hr:\n",
    "    def __init__(self,position):\n",
    "        self.position = position\n",
    "        \n",
    "    def hr(self):\n",
    "        print(self.position)\n",
    "        \n",
    "class Office(Info,Hr):\n",
    "    def __init__(self,name,position,salary):\n",
    "        Info.__init__(self,name)\n",
    "        Hr.__init__(self,position)\n",
    "        self.salary = salary\n",
    "        \n",
    "    def office(self):\n",
    "        print(f\"Hello my name is {self.name}. I am {self.position} of the company. My salary is {self.salary}\")\n",
    "    \n",
    "obj = Office(\"Bharat\",\"CEO\",100000)\n",
    "obj.office()\n",
    "obj.hr()\n",
    "obj.hrs()"
   ]
  },
  {
   "cell_type": "code",
   "execution_count": 24,
   "metadata": {},
   "outputs": [
    {
     "name": "stdout",
     "output_type": "stream",
     "text": [
      "Ram\n",
      "\n",
      "CTO\n"
     ]
    }
   ],
   "source": [
    "obj1 = Info(\"Ram\")\n",
    "obj1.hrs()\n",
    "print()\n",
    "obj2 = Hr(\"CTO\")\n",
    "obj2.hr()"
   ]
  },
  {
   "cell_type": "code",
   "execution_count": 25,
   "metadata": {},
   "outputs": [
    {
     "name": "stdout",
     "output_type": "stream",
     "text": [
      "Ram\n",
      "45\n"
     ]
    }
   ],
   "source": [
    "class Info:\n",
    "    def __init__(self,name,age):\n",
    "        self.name = name\n",
    "        self.age = age\n",
    "        \n",
    "obj = Info(\"Ram\", 45)\n",
    "print(obj.name)\n",
    "print(obj.age)"
   ]
  },
  {
   "cell_type": "code",
   "execution_count": 27,
   "metadata": {},
   "outputs": [
    {
     "name": "stdout",
     "output_type": "stream",
     "text": [
      "Ram\n",
      "45\n"
     ]
    }
   ],
   "source": [
    "# Protected attributes\n",
    "class Info:\n",
    "    def __init__(self,name,age):\n",
    "        self._name = name\n",
    "        self._age = age\n",
    "        \n",
    "obj = Info(\"Ram\", 45)\n",
    "print(obj._name)\n",
    "print(obj._age)"
   ]
  },
  {
   "cell_type": "code",
   "execution_count": 33,
   "metadata": {},
   "outputs": [],
   "source": [
    "# Private attributes\n",
    "class Info:\n",
    "    def __init__(self,name,age):\n",
    "        self.__name = name\n",
    "        self.__age = age\n",
    "        \n",
    "obj = Info(\"Ram\", 45)\n",
    "#print(obj.__name) #AttributeError: 'Info' object has no attribute '__name'\n",
    "#print(obj.__age) # AttributeError: 'Info' object has no attribute '__age'"
   ]
  },
  {
   "cell_type": "code",
   "execution_count": null,
   "metadata": {},
   "outputs": [],
   "source": []
  }
 ],
 "metadata": {
  "kernelspec": {
   "display_name": "Python 3",
   "language": "python",
   "name": "python3"
  },
  "language_info": {
   "codemirror_mode": {
    "name": "ipython",
    "version": 3
   },
   "file_extension": ".py",
   "mimetype": "text/x-python",
   "name": "python",
   "nbconvert_exporter": "python",
   "pygments_lexer": "ipython3",
   "version": "3.8.6"
  }
 },
 "nbformat": 4,
 "nbformat_minor": 4
}
