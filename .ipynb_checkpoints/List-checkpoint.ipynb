{
 "cells": [
  {
   "cell_type": "code",
   "execution_count": 1,
   "metadata": {},
   "outputs": [
    {
     "name": "stdout",
     "output_type": "stream",
     "text": [
      "[1, 2, 3, 4, 5]\n",
      "<class 'list'>\n"
     ]
    }
   ],
   "source": [
    "a = [1,2,3,4,5]\n",
    "print(a)\n",
    "print(type(a))"
   ]
  },
  {
   "cell_type": "code",
   "execution_count": 2,
   "metadata": {},
   "outputs": [],
   "source": [
    "# list is\n",
    "# ...Mutable datatype\n",
    "# ...Ordered\n",
    "# ...It follows indexing\n",
    "# ...It can have multipe values"
   ]
  },
  {
   "cell_type": "code",
   "execution_count": 3,
   "metadata": {},
   "outputs": [
    {
     "name": "stdout",
     "output_type": "stream",
     "text": [
      "Cat\n"
     ]
    }
   ],
   "source": [
    "a = [\"Apple\",\"Ball\",\"Cat\"]\n",
    "print(a[-1])"
   ]
  },
  {
   "cell_type": "code",
   "execution_count": 4,
   "metadata": {},
   "outputs": [
    {
     "data": {
      "text/plain": [
       "[0, 1, 2, 3, 4, 5]"
      ]
     },
     "execution_count": 4,
     "metadata": {},
     "output_type": "execute_result"
    }
   ],
   "source": [
    "a = [0,1,2,3,4,5,6,7,8,9,10]\n",
    "a[0:6]"
   ]
  },
  {
   "cell_type": "code",
   "execution_count": 5,
   "metadata": {},
   "outputs": [
    {
     "data": {
      "text/plain": [
       "[0, 2, 4, 6, 8]"
      ]
     },
     "execution_count": 5,
     "metadata": {},
     "output_type": "execute_result"
    }
   ],
   "source": [
    "a = [0,1,2,3,4,5,6,7,8,9,10]\n",
    "a[0:9:2]"
   ]
  },
  {
   "cell_type": "code",
   "execution_count": 6,
   "metadata": {},
   "outputs": [
    {
     "name": "stdout",
     "output_type": "stream",
     "text": [
      "[1, 2, 3, 4, 5, 6]\n",
      "[4, 5, 6, 1, 2, 3]\n"
     ]
    }
   ],
   "source": [
    "a = [1,2,3]\n",
    "b = [4,5,6]\n",
    "print(a+b)\n",
    "print(b+a)"
   ]
  },
  {
   "cell_type": "code",
   "execution_count": 7,
   "metadata": {},
   "outputs": [
    {
     "name": "stdout",
     "output_type": "stream",
     "text": [
      "[1, 1, 2, 2, 3, 3, 4, 4, 5, 6, 1, 2]\n"
     ]
    }
   ],
   "source": [
    "a = [1,1,2,2,3,3,4,4,5,6,1,2]\n",
    "print(a)"
   ]
  },
  {
   "cell_type": "code",
   "execution_count": 8,
   "metadata": {},
   "outputs": [
    {
     "name": "stdout",
     "output_type": "stream",
     "text": [
      "['Ant', 'Ball', 'cat']\n"
     ]
    }
   ],
   "source": [
    "a = [\"Apple\",\"Ball\",\"cat\"]\n",
    "a[0] = 'Ant'\n",
    "print(a)"
   ]
  },
  {
   "cell_type": "code",
   "execution_count": 9,
   "metadata": {},
   "outputs": [
    {
     "data": {
      "text/plain": [
       "[1, 2, 3, 4, 1, 2, 3, 4]"
      ]
     },
     "execution_count": 9,
     "metadata": {},
     "output_type": "execute_result"
    }
   ],
   "source": [
    "a = [1,2,3,4]\n",
    "a*2"
   ]
  },
  {
   "cell_type": "code",
   "execution_count": 10,
   "metadata": {},
   "outputs": [
    {
     "name": "stdout",
     "output_type": "stream",
     "text": [
      "Apple\n",
      "Ball\n",
      "cat\n"
     ]
    }
   ],
   "source": [
    "a = [\"Apple\",\"Ball\",\"cat\"]\n",
    "for i in a:\n",
    "    print(i)"
   ]
  },
  {
   "cell_type": "code",
   "execution_count": 11,
   "metadata": {},
   "outputs": [
    {
     "name": "stdout",
     "output_type": "stream",
     "text": [
      "Apple\n",
      "Ball\n",
      "cat\n"
     ]
    }
   ],
   "source": [
    "a = [\"Apple\",\"Ball\",\"cat\"]\n",
    "for i in range(3):\n",
    "    print(a[i])"
   ]
  },
  {
   "cell_type": "code",
   "execution_count": 12,
   "metadata": {},
   "outputs": [
    {
     "name": "stdout",
     "output_type": "stream",
     "text": [
      "Enter n = 2\n",
      "Enter name = Ram\n",
      "Enter name = Raj\n",
      "['Ram', 'Raj']\n"
     ]
    }
   ],
   "source": [
    "data = []\n",
    "n = int(input(\"Enter n = \"))\n",
    "for i in range(n):\n",
    "    name= input(\"Enter name = \")\n",
    "    data = data+[name]\n",
    "    \n",
    "print(data)"
   ]
  },
  {
   "cell_type": "code",
   "execution_count": 13,
   "metadata": {},
   "outputs": [
    {
     "data": {
      "text/plain": [
       "'Raj'"
      ]
     },
     "execution_count": 13,
     "metadata": {},
     "output_type": "execute_result"
    }
   ],
   "source": [
    "data[1]"
   ]
  },
  {
   "cell_type": "code",
   "execution_count": 14,
   "metadata": {},
   "outputs": [
    {
     "data": {
      "text/plain": [
       "['Ram']"
      ]
     },
     "execution_count": 14,
     "metadata": {},
     "output_type": "execute_result"
    }
   ],
   "source": [
    "[]+[\"Ram\"]"
   ]
  },
  {
   "cell_type": "code",
   "execution_count": 16,
   "metadata": {},
   "outputs": [
    {
     "name": "stdout",
     "output_type": "stream",
     "text": [
      "Enter n = 3\n",
      "Enter no = 5\n",
      "Enter no = 6\n",
      "Enter no = 7\n",
      "The list is =  [5, 6, 7]\n",
      "The max value is =  7\n",
      "The min value is =  5\n",
      "The sum value is =  18\n",
      "The avg value is =  6.0\n"
     ]
    }
   ],
   "source": [
    "data = []\n",
    "n = int(input(\"Enter n = \"))\n",
    "for i in range(n):\n",
    "    no= int(input(\"Enter no = \"))\n",
    "    data = data+[no]\n",
    "print(\"The list is = \",data)\n",
    "print(\"The max value is = \",max(data))\n",
    "print(\"The min value is = \",min(data))\n",
    "print(\"The sum value is = \",sum(data))\n",
    "print(\"The avg value is = \",sum(data)/n)"
   ]
  },
  {
   "cell_type": "code",
   "execution_count": 17,
   "metadata": {},
   "outputs": [],
   "source": [
    "data.sort()"
   ]
  },
  {
   "cell_type": "code",
   "execution_count": 18,
   "metadata": {},
   "outputs": [
    {
     "name": "stdout",
     "output_type": "stream",
     "text": [
      "[5, 6, 7]\n"
     ]
    }
   ],
   "source": [
    "print(data)"
   ]
  },
  {
   "cell_type": "code",
   "execution_count": 19,
   "metadata": {},
   "outputs": [
    {
     "name": "stdout",
     "output_type": "stream",
     "text": [
      "[7, 6, 5]\n"
     ]
    }
   ],
   "source": [
    "data.reverse()\n",
    "print(data)"
   ]
  },
  {
   "cell_type": "code",
   "execution_count": 20,
   "metadata": {},
   "outputs": [
    {
     "name": "stdout",
     "output_type": "stream",
     "text": [
      "['1xray', '@bat', 'Zebra', 'ball']\n"
     ]
    }
   ],
   "source": [
    "a = [\"ball\",'Zebra','1xray','@bat']\n",
    "a.sort()\n",
    "print(a)"
   ]
  },
  {
   "cell_type": "code",
   "execution_count": 21,
   "metadata": {},
   "outputs": [
    {
     "name": "stdout",
     "output_type": "stream",
     "text": [
      "['1xray', '@bat', 'Zebra', 'ball']\n",
      "['ball', 'Zebra', '1xray', '@bat']\n"
     ]
    }
   ],
   "source": [
    "a = [\"ball\",'Zebra','1xray','@bat']\n",
    "print(sorted(a))\n",
    "print(a)"
   ]
  },
  {
   "cell_type": "markdown",
   "metadata": {},
   "source": [
    "predefined functions of list"
   ]
  },
  {
   "cell_type": "code",
   "execution_count": 22,
   "metadata": {},
   "outputs": [
    {
     "name": "stdout",
     "output_type": "stream",
     "text": [
      "[0, 1]\n"
     ]
    }
   ],
   "source": [
    "a = [0]\n",
    "b = [1]\n",
    "print(a+b)"
   ]
  },
  {
   "cell_type": "code",
   "execution_count": 23,
   "metadata": {},
   "outputs": [
    {
     "name": "stdout",
     "output_type": "stream",
     "text": [
      "[0, 'Apple']\n"
     ]
    }
   ],
   "source": [
    "a = [0]\n",
    "b = \"Apple\"\n",
    "a.append(b)\n",
    "print(a)"
   ]
  },
  {
   "cell_type": "code",
   "execution_count": 24,
   "metadata": {},
   "outputs": [
    {
     "name": "stdout",
     "output_type": "stream",
     "text": [
      "Enter n = 3\n",
      "Enter no = 12\n",
      "Enter no = 13\n",
      "Enter no = 14\n",
      "The list is =  [12, 13, 14]\n",
      "The max value is =  14\n",
      "The min value is =  12\n",
      "The sum value is =  39\n",
      "The avg value is =  13.0\n"
     ]
    }
   ],
   "source": [
    "data = []\n",
    "n = int(input(\"Enter n = \"))\n",
    "for i in range(n):\n",
    "    no= int(input(\"Enter no = \"))\n",
    "    data.append(no)\n",
    "print(\"The list is = \",data)\n",
    "print(\"The max value is = \",max(data))\n",
    "print(\"The min value is = \",min(data))\n",
    "print(\"The sum value is = \",sum(data))\n",
    "print(\"The avg value is = \",sum(data)/n)"
   ]
  },
  {
   "cell_type": "code",
   "execution_count": 25,
   "metadata": {},
   "outputs": [
    {
     "name": "stdout",
     "output_type": "stream",
     "text": [
      "['Apple', 'Ball', 'cat', 'Dog', 'Fish']\n"
     ]
    }
   ],
   "source": [
    "a=[\"Apple\",\"Ball\",\"cat\",\"Dog\"]\n",
    "a.append(\"Fish\")\n",
    "print(a)"
   ]
  },
  {
   "cell_type": "code",
   "execution_count": 26,
   "metadata": {},
   "outputs": [
    {
     "name": "stdout",
     "output_type": "stream",
     "text": [
      "['Fish', 'Apple', 'Ball', 'cat', 'Dog']\n"
     ]
    }
   ],
   "source": [
    "a=[\"Apple\",\"Ball\",\"cat\",\"Dog\"]\n",
    "a.insert(0,\"Fish\")\n",
    "print(a)"
   ]
  },
  {
   "cell_type": "markdown",
   "metadata": {},
   "source": [
    "Double-click (or enter) to edit"
   ]
  },
  {
   "cell_type": "code",
   "execution_count": 27,
   "metadata": {},
   "outputs": [
    {
     "name": "stdout",
     "output_type": "stream",
     "text": [
      "Yes\n"
     ]
    }
   ],
   "source": [
    "a = ['Fish', 'Apple', 'Ball', 'cat', 'Dog']\n",
    "if 'Fish' in a:\n",
    "    print(\"Yes\")\n",
    "else:\n",
    "    print(\"No\")"
   ]
  },
  {
   "cell_type": "code",
   "execution_count": 28,
   "metadata": {},
   "outputs": [
    {
     "name": "stdout",
     "output_type": "stream",
     "text": [
      "Yes\n"
     ]
    }
   ],
   "source": [
    "a = \"Fish, Apple, Ball, cat, Dog\"\n",
    "if 'Fi' in a:\n",
    "    print(\"Yes\")\n",
    "else:\n",
    "    print(\"No\")"
   ]
  },
  {
   "cell_type": "code",
   "execution_count": 29,
   "metadata": {},
   "outputs": [
    {
     "data": {
      "text/plain": [
       "'FISH'"
      ]
     },
     "execution_count": 29,
     "metadata": {},
     "output_type": "execute_result"
    }
   ],
   "source": [
    "a = ['Fish', 'Apple', 'Ball', 'cat', 'Dog']\n",
    "a[0].upper()"
   ]
  },
  {
   "cell_type": "code",
   "execution_count": 30,
   "metadata": {},
   "outputs": [
    {
     "name": "stdout",
     "output_type": "stream",
     "text": [
      "['FISH', 'APPLE', 'BALL', 'CAT', 'DOG']\n"
     ]
    }
   ],
   "source": [
    "a = ['Fish', 'Apple', 'Ball', 'cat', 'Dog']\n",
    "b = []\n",
    "for i in a:\n",
    "    x = i.upper()\n",
    "    b.append(x)\n",
    "print(b)"
   ]
  },
  {
   "cell_type": "code",
   "execution_count": 32,
   "metadata": {},
   "outputs": [
    {
     "name": "stdout",
     "output_type": "stream",
     "text": [
      "Enter search = Apple\n",
      "No\n"
     ]
    }
   ],
   "source": [
    "a = ['Fish', 'Apple', 'Ball', 'cat', 'Dog']\n",
    "search = input(\"Enter search = \").lower()\n",
    "if search in a:\n",
    "    print(\"Yes\")\n",
    "else:\n",
    "    print(\"No\")"
   ]
  },
  {
   "cell_type": "code",
   "execution_count": 36,
   "metadata": {},
   "outputs": [
    {
     "name": "stdout",
     "output_type": "stream",
     "text": [
      "Enter search = asdf\n",
      "No\n"
     ]
    }
   ],
   "source": [
    "a = ['Fish', 'Apple', 'Ball', 'cat', 'Dog']\n",
    "search = input(\"Enter search = \").lower()\n",
    "if search in a:\n",
    "    print(\"Yes\")\n",
    "else:\n",
    "    print(\"No\")"
   ]
  },
  {
   "cell_type": "code",
   "execution_count": 34,
   "metadata": {},
   "outputs": [
    {
     "name": "stdout",
     "output_type": "stream",
     "text": [
      "Enter value of search = Apple\n",
      "Yes\n"
     ]
    }
   ],
   "source": [
    "a = ['Fish', 'Apple', 'Ball', 'cat', 'Dog']\n",
    "search = input(\"Enter value of search = \").lower()\n",
    "for i in a:\n",
    "    if i.lower() == search:\n",
    "        print(\"Yes\")\n",
    "        break\n",
    "else:\n",
    "    print(\"No\")"
   ]
  },
  {
   "cell_type": "code",
   "execution_count": 35,
   "metadata": {},
   "outputs": [
    {
     "name": "stdout",
     "output_type": "stream",
     "text": [
      "Enter value of search = ball\n",
      "Yes\n"
     ]
    }
   ],
   "source": [
    "a = ['Fish', 'Apple', 'Ball', 'cat', 'Dog']\n",
    "search = input(\"Enter value of search = \").lower()\n",
    "for i in a:\n",
    "    if i.lower() == search:\n",
    "        print(\"Yes\")\n",
    "        break\n",
    "else:\n",
    "    print(\"No\")"
   ]
  },
  {
   "cell_type": "code",
   "execution_count": null,
   "metadata": {},
   "outputs": [],
   "source": []
  }
 ],
 "metadata": {
  "kernelspec": {
   "display_name": "Python 3",
   "language": "python",
   "name": "python3"
  },
  "language_info": {
   "codemirror_mode": {
    "name": "ipython",
    "version": 3
   },
   "file_extension": ".py",
   "mimetype": "text/x-python",
   "name": "python",
   "nbconvert_exporter": "python",
   "pygments_lexer": "ipython3",
   "version": "3.8.6"
  }
 },
 "nbformat": 4,
 "nbformat_minor": 4
}
