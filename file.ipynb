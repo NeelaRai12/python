{
 "cells": [
  {
   "cell_type": "code",
   "execution_count": 1,
   "metadata": {},
   "outputs": [],
   "source": [
    "b = open('classs4pm.txt','x')"
   ]
  },
  {
   "cell_type": "code",
   "execution_count": 2,
   "metadata": {},
   "outputs": [],
   "source": [
    "b.close()"
   ]
  },
  {
   "cell_type": "code",
   "execution_count": 9,
   "metadata": {},
   "outputs": [
    {
     "name": "stdout",
     "output_type": "stream",
     "text": [
      "hello Neela\n",
      "hello Neela\n",
      "hello Neela\n",
      "hello Neela\n",
      "hello Neela\n"
     ]
    }
   ],
   "source": [
    "b = open('classs4pm.txt','r')\n",
    "print(b.read())\n",
    "b.close()"
   ]
  },
  {
   "cell_type": "code",
   "execution_count": 10,
   "metadata": {},
   "outputs": [
    {
     "name": "stdout",
     "output_type": "stream",
     "text": [
      "hello Neel\n"
     ]
    }
   ],
   "source": [
    "b = open('classs4pm.txt','r')\n",
    "print(b.read(10))\n",
    "b.close()"
   ]
  },
  {
   "cell_type": "code",
   "execution_count": 11,
   "metadata": {},
   "outputs": [
    {
     "name": "stdout",
     "output_type": "stream",
     "text": [
      "hello Neela\n",
      "\n"
     ]
    }
   ],
   "source": [
    "b = open('classs4pm.txt','r')\n",
    "print(b.readline())\n",
    "\n",
    "b.close()"
   ]
  },
  {
   "cell_type": "code",
   "execution_count": 14,
   "metadata": {},
   "outputs": [
    {
     "name": "stdout",
     "output_type": "stream",
     "text": [
      "Enter line no = 5\n",
      "hello Neela\n"
     ]
    }
   ],
   "source": [
    "b = open('classs4pm.txt','r')\n",
    "n = int(input(\"Enter line no = \"))\n",
    "for i in range(1,7):\n",
    "    if i != n:\n",
    "        b.readline()\n",
    "    else:\n",
    "        print(b.readline())"
   ]
  },
  {
   "cell_type": "code",
   "execution_count": 16,
   "metadata": {},
   "outputs": [
    {
     "name": "stdout",
     "output_type": "stream",
     "text": [
      "Python\n",
      "Python\n",
      "Python\n",
      "Python\n",
      "Python\n",
      "Python\n"
     ]
    }
   ],
   "source": [
    "# for i in range(5):\n",
    "#     print(i)\n",
    "a = \"Python\"\n",
    "for i in a:\n",
    "    print(a)"
   ]
  },
  {
   "cell_type": "code",
   "execution_count": 18,
   "metadata": {},
   "outputs": [
    {
     "name": "stdout",
     "output_type": "stream",
     "text": [
      "P\n",
      "y\n",
      "t\n",
      "h\n",
      "o\n",
      "n\n"
     ]
    }
   ],
   "source": [
    "a = \"Python\"\n",
    "for i in a:\n",
    "    print(i)"
   ]
  },
  {
   "cell_type": "code",
   "execution_count": 19,
   "metadata": {},
   "outputs": [],
   "source": [
    "b = open('class4pm.txt','a')\n",
    "b.write('Hello World')\n",
    "\n",
    "b.close()"
   ]
  },
  {
   "cell_type": "code",
   "execution_count": null,
   "metadata": {},
   "outputs": [],
   "source": []
  },
  {
   "cell_type": "code",
   "execution_count": 20,
   "metadata": {},
   "outputs": [
    {
     "name": "stdout",
     "output_type": "stream",
     "text": [
      "Enter n = 2\n",
      "Enter name = Neela\n",
      "Enter phone = 9861010575\n",
      "Enter name = sabita\n",
      "Enter phone = 9842803901\n",
      "Neela 9861010575\n",
      "sabita 9842803901\n",
      "\n"
     ]
    }
   ],
   "source": [
    "# string formatting\n",
    "info = \"\"\n",
    "n = int(input(\"Enter n = \"))\n",
    "for i in range(n):\n",
    "    name = input(\"Enter name = \")\n",
    "    phone = input(\"Enter phone = \")\n",
    "    data = f\"{name} {phone}\\n\"\n",
    "    info = info +data\n",
    "print(info)\n",
    "\n",
    "b = open('class4pm.txt','a')\n",
    "b.write(info)\n",
    "\n",
    "b.close()"
   ]
  },
  {
   "cell_type": "code",
   "execution_count": 21,
   "metadata": {},
   "outputs": [
    {
     "name": "stdout",
     "output_type": "stream",
     "text": [
      "Enter n = 2\n",
      "Enter name = Neela\n",
      "Enter physics = 98\n",
      "Enter chemistry = 88\n",
      "Enter math = 87\n",
      "Enter English = 89\n",
      "Enter name = Sabita\n",
      "Enter physics = 85\n",
      "Enter chemistry = 74\n",
      "Enter math = 96\n",
      "Enter English = 69\n",
      "Neela,98,88,87,89,362 ,90.5\n",
      "Sabita,85,74,96,69,324 ,81.0\n",
      "\n"
     ]
    }
   ],
   "source": [
    "# string formatting\n",
    "info = \"\"\n",
    "n = int(input(\"Enter n = \"))\n",
    "for i in range(n):\n",
    "    name = input(\"Enter name = \")\n",
    "    physics = int(input(\"Enter physics = \"))\n",
    "    chemistry = int(input(\"Enter chemistry = \"))\n",
    "    math = int(input(\"Enter math = \"))\n",
    "    english = int(input(\"Enter English = \"))\n",
    "    total = physics+chemistry+math+english\n",
    "    per = total/4\n",
    "    data = f\"{name},{physics},{chemistry},{math},{english},{total} ,{per}\\n\"\n",
    "    info = info +data\n",
    "print(info)\n",
    "b = open('class4pm.csv','w')\n",
    "b.write(info)\n",
    "b.close()"
   ]
  },
  {
   "cell_type": "code",
   "execution_count": 22,
   "metadata": {},
   "outputs": [
    {
     "name": "stdout",
     "output_type": "stream",
     "text": [
      "Neela,98,88,87,89,362 ,90.5\n",
      "Sabita,85,74,96,69,324 ,81.0\n",
      "\n"
     ]
    }
   ],
   "source": [
    "b = open('class4pm.csv','r')\n",
    "print(b.read())\n",
    "b.close()"
   ]
  },
  {
   "cell_type": "code",
   "execution_count": 23,
   "metadata": {},
   "outputs": [],
   "source": [
    "b = open('class4pm.csv','r')\n",
    "c = b.read()\n",
    "d = c.replace('Shyama,78,67,90,78,313 ,78.25','')\n",
    "\n",
    "b.close()\n",
    "\n",
    "b = open('class4pm.csv','w')\n",
    "c = b.write(d)\n",
    "\n",
    "b.close()"
   ]
  },
  {
   "cell_type": "code",
   "execution_count": 24,
   "metadata": {},
   "outputs": [
    {
     "name": "stdout",
     "output_type": "stream",
     "text": [
      "['Neela,98,88,87,89,362 ,90.5', 'Sabita,85,74,96,69,324 ,81.0']\n",
      "[['Neela', '98', '88', '87', '89', '362 ', '90.5'], ['Sabita', '85', '74', '96', '69', '324 ', '81.0']]\n"
     ]
    }
   ],
   "source": [
    "b = open('class4pm.csv','r')\n",
    "c = b.read()\n",
    "d = c.split('\\n')\n",
    "e = d[0:-1]\n",
    "print(e)\n",
    "x = []\n",
    "for i in e:\n",
    "    x.append(i.split(','))\n",
    "b.close()\n",
    "print(x)"
   ]
  },
  {
   "cell_type": "code",
   "execution_count": 25,
   "metadata": {},
   "outputs": [
    {
     "data": {
      "text/plain": [
       "'Untitled Folder'"
      ]
     },
     "execution_count": 25,
     "metadata": {},
     "output_type": "execute_result"
    }
   ],
   "source": [
    "import shutil\n",
    "src = 'class4pm.txt'\n",
    "dst = 'Untitled Folder'\n",
    "shutil.copy(src, dst)"
   ]
  },
  {
   "cell_type": "code",
   "execution_count": null,
   "metadata": {},
   "outputs": [],
   "source": []
  }
 ],
 "metadata": {
  "kernelspec": {
   "display_name": "Python 3",
   "language": "python",
   "name": "python3"
  },
  "language_info": {
   "codemirror_mode": {
    "name": "ipython",
    "version": 3
   },
   "file_extension": ".py",
   "mimetype": "text/x-python",
   "name": "python",
   "nbconvert_exporter": "python",
   "pygments_lexer": "ipython3",
   "version": "3.8.6"
  }
 },
 "nbformat": 4,
 "nbformat_minor": 4
}
