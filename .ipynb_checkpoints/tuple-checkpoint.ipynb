{
 "cells": [
  {
   "cell_type": "code",
   "execution_count": 1,
   "metadata": {},
   "outputs": [
    {
     "data": {
      "text/plain": [
       "tuple"
      ]
     },
     "execution_count": 1,
     "metadata": {},
     "output_type": "execute_result"
    }
   ],
   "source": [
    "a = ()\n",
    "type(a)"
   ]
  },
  {
   "cell_type": "code",
   "execution_count": 2,
   "metadata": {},
   "outputs": [],
   "source": [
    "# Tuple is\n",
    "# ...IMutable datatype\n",
    "# ...Ordered\n",
    "# ...It follows indexing\n",
    "# ...It can have multipe values"
   ]
  },
  {
   "cell_type": "code",
   "execution_count": 3,
   "metadata": {},
   "outputs": [
    {
     "data": {
      "text/plain": [
       "tuple"
      ]
     },
     "execution_count": 3,
     "metadata": {},
     "output_type": "execute_result"
    }
   ],
   "source": [
    "a = (1,2,)\n",
    "type(a)"
   ]
  },
  {
   "cell_type": "code",
   "execution_count": 4,
   "metadata": {},
   "outputs": [
    {
     "data": {
      "text/plain": [
       "(1, 2, 3, 4, 5, 6)"
      ]
     },
     "execution_count": 4,
     "metadata": {},
     "output_type": "execute_result"
    }
   ],
   "source": [
    "a = (1,2,3)\n",
    "b = (4,5,6)\n",
    "a+b"
   ]
  },
  {
   "cell_type": "code",
   "execution_count": 5,
   "metadata": {},
   "outputs": [
    {
     "data": {
      "text/plain": [
       "(1, 2, 3, 1, 2, 3)"
      ]
     },
     "execution_count": 5,
     "metadata": {},
     "output_type": "execute_result"
    }
   ],
   "source": [
    "a = (1,2,3)\n",
    "a*2"
   ]
  },
  {
   "cell_type": "code",
   "execution_count": 6,
   "metadata": {},
   "outputs": [
    {
     "data": {
      "text/plain": [
       "(1,)"
      ]
     },
     "execution_count": 6,
     "metadata": {},
     "output_type": "execute_result"
    }
   ],
   "source": [
    "a = ()\n",
    "b = (1,)\n",
    "c = a+b\n",
    "c"
   ]
  },
  {
   "cell_type": "code",
   "execution_count": 10,
   "metadata": {},
   "outputs": [
    {
     "name": "stdout",
     "output_type": "stream",
     "text": [
      "Enter a = 12\n",
      "Enter a = 23\n",
      "Enter a = 34\n",
      "Enter a = 45\n",
      "Enter a = 56\n",
      "(12, 23, 34, 45, 56)\n"
     ]
    }
   ],
   "source": [
    "c = ()\n",
    "for i in range(5):\n",
    "    a = int(input(\"Enter a = \"))\n",
    "    c = c+(a,)\n",
    "print(c)"
   ]
  },
  {
   "cell_type": "code",
   "execution_count": 11,
   "metadata": {},
   "outputs": [
    {
     "name": "stdout",
     "output_type": "stream",
     "text": [
      "12\n",
      "23\n",
      "34\n",
      "45\n",
      "56\n"
     ]
    }
   ],
   "source": [
    "for i in c:\n",
    "    print(i)"
   ]
  },
  {
   "cell_type": "code",
   "execution_count": 12,
   "metadata": {},
   "outputs": [
    {
     "name": "stdout",
     "output_type": "stream",
     "text": [
      "Yes 2\n"
     ]
    }
   ],
   "source": [
    "a = (\"Ram\",\"Shyam\",\"Hari\",\"Gita\",\"Shyam\")\n",
    "if \"Ram\" in a:\n",
    "    print(\"Yes\",a.count(\"Shyam\"))"
   ]
  },
  {
   "cell_type": "code",
   "execution_count": 13,
   "metadata": {},
   "outputs": [
    {
     "data": {
      "text/plain": [
       "5"
      ]
     },
     "execution_count": 13,
     "metadata": {},
     "output_type": "execute_result"
    }
   ],
   "source": [
    "len(a)"
   ]
  },
  {
   "cell_type": "code",
   "execution_count": 14,
   "metadata": {},
   "outputs": [
    {
     "name": "stdout",
     "output_type": "stream",
     "text": [
      "Enter n = 3\n",
      "Enter no = 23\n",
      "Enter no = 34\n",
      "Enter no = 45\n",
      "The tuple is =  (23, 34, 45)\n",
      "The max value is =  45\n",
      "The min value is =  23\n",
      "The sum value is =  102\n",
      "The avg value is =  34.0\n"
     ]
    }
   ],
   "source": [
    "data = ()\n",
    "n = int(input(\"Enter n = \"))\n",
    "for i in range(n):\n",
    "    no= int(input(\"Enter no = \"))\n",
    "    data = data+(no,)\n",
    "print(\"The tuple is = \",data)\n",
    "print(\"The max value is = \",max(data))\n",
    "print(\"The min value is = \",min(data))\n",
    "print(\"The sum value is = \",sum(data))\n",
    "print(\"The avg value is = \",sum(data)/n)"
   ]
  },
  {
   "cell_type": "code",
   "execution_count": 15,
   "metadata": {},
   "outputs": [
    {
     "name": "stdout",
     "output_type": "stream",
     "text": [
      "['1xray', '@bat', 'Zebra', 'ball']\n"
     ]
    }
   ],
   "source": [
    "a = [\"ball\",'Zebra','1xray','@bat']\n",
    "a = sorted(a)\n",
    "print(a)"
   ]
  },
  {
   "cell_type": "code",
   "execution_count": 16,
   "metadata": {},
   "outputs": [
    {
     "data": {
      "text/plain": [
       "'FISH'"
      ]
     },
     "execution_count": 16,
     "metadata": {},
     "output_type": "execute_result"
    }
   ],
   "source": [
    "a = ('Fish', 'Apple', 'Ball', 'cat', 'Dog')\n",
    "a[0].upper()"
   ]
  },
  {
   "cell_type": "code",
   "execution_count": 17,
   "metadata": {},
   "outputs": [
    {
     "name": "stdout",
     "output_type": "stream",
     "text": [
      "('Fish', 'Apple', 'Ball', 'cat', 'Dog')\n"
     ]
    }
   ],
   "source": [
    "print(a)"
   ]
  },
  {
   "cell_type": "code",
   "execution_count": 18,
   "metadata": {},
   "outputs": [
    {
     "name": "stdout",
     "output_type": "stream",
     "text": [
      "('FISH', 'APPLE', 'BALL', 'CAT', 'DOG')\n"
     ]
    }
   ],
   "source": [
    "a = ('Fish', 'Apple', 'Ball', 'cat', 'Dog')\n",
    "b = ()\n",
    "for i in a:\n",
    "    x = i.upper()\n",
    "    b=b+(x,)\n",
    "print(b)"
   ]
  },
  {
   "cell_type": "code",
   "execution_count": 19,
   "metadata": {},
   "outputs": [
    {
     "name": "stdout",
     "output_type": "stream",
     "text": [
      "Enter n = 2\n",
      "Enter name = Asha\n",
      "Enter physics = 47\n",
      "Enter chemistry = 54\n",
      "Enter math = 56\n",
      "Enter English = 74\n",
      "Enter name = Neela\n",
      "Enter physics = 87\n",
      "Enter chemistry = 89\n",
      "Enter math = 98\n",
      "Enter English = 88\n",
      "('Asha 47 54 56 74 231 57.75', 'Neela 87 89 98 88 362 90.5')\n"
     ]
    }
   ],
   "source": [
    "info = ()\n",
    "n = int(input(\"Enter n = \"))\n",
    "for i in range(n):\n",
    "    name = input(\"Enter name = \")\n",
    "    physics = int(input(\"Enter physics = \"))\n",
    "    chemistry = int(input(\"Enter chemistry = \"))\n",
    "    math = int(input(\"Enter math = \"))\n",
    "    english = int(input(\"Enter English = \"))\n",
    "    total = physics+chemistry+math+english\n",
    "    per = total/4\n",
    "    data = f\"{name} {physics} {chemistry} {math} {english} {total} {per}\"\n",
    "    info = info+(data,)\n",
    "print(info)"
   ]
  },
  {
   "cell_type": "code",
   "execution_count": 20,
   "metadata": {},
   "outputs": [
    {
     "data": {
      "text/plain": [
       "2"
      ]
     },
     "execution_count": 20,
     "metadata": {},
     "output_type": "execute_result"
    }
   ],
   "source": [
    "a=('Apple',\"Ball\",\"Cat\",\"Dog\",\"Cat\")\n",
    "a.index(\"Cat\")"
   ]
  },
  {
   "cell_type": "code",
   "execution_count": 21,
   "metadata": {},
   "outputs": [
    {
     "name": "stdout",
     "output_type": "stream",
     "text": [
      "2\n",
      "4\n"
     ]
    }
   ],
   "source": [
    "for i in range(len(a)):\n",
    "    if a[i] == 'Cat':\n",
    "        print(i)"
   ]
  },
  {
   "cell_type": "code",
   "execution_count": 22,
   "metadata": {},
   "outputs": [
    {
     "name": "stdout",
     "output_type": "stream",
     "text": [
      "[1, 2, 3, 4]\n",
      "(1, 2, 3, 4)\n"
     ]
    }
   ],
   "source": [
    "a = (1,2,3,4)\n",
    "b = list(a)\n",
    "print(b)\n",
    "print(tuple(b))"
   ]
  },
  {
   "cell_type": "code",
   "execution_count": 23,
   "metadata": {},
   "outputs": [
    {
     "name": "stdout",
     "output_type": "stream",
     "text": [
      "(1, 2, 3)\n"
     ]
    }
   ],
   "source": [
    "a = (1,2,3,4)\n",
    "b = list(a)\n",
    "b.remove(4)\n",
    "a = tuple(b)\n",
    "print(a)"
   ]
  },
  {
   "cell_type": "code",
   "execution_count": 24,
   "metadata": {},
   "outputs": [
    {
     "name": "stdout",
     "output_type": "stream",
     "text": [
      "['P', 'y', 't', 'h', 'o', 'n']\n"
     ]
    }
   ],
   "source": [
    "a = list(\"Python\")\n",
    "print(a)"
   ]
  },
  {
   "cell_type": "code",
   "execution_count": 25,
   "metadata": {},
   "outputs": [
    {
     "name": "stdout",
     "output_type": "stream",
     "text": [
      "('P', 'y', 't', 'h', 'o', 'n')\n"
     ]
    }
   ],
   "source": [
    "a = tuple(\"Python\")\n",
    "print(a)"
   ]
  },
  {
   "cell_type": "code",
   "execution_count": 26,
   "metadata": {},
   "outputs": [
    {
     "data": {
      "text/plain": [
       "\"['P', 'y', 't', 'h', 'o', 'n']\""
      ]
     },
     "execution_count": 26,
     "metadata": {},
     "output_type": "execute_result"
    }
   ],
   "source": [
    "a = list(\"Python\")\n",
    "str(a)"
   ]
  },
  {
   "cell_type": "code",
   "execution_count": 27,
   "metadata": {},
   "outputs": [],
   "source": [
    "# tuple inside tuple"
   ]
  },
  {
   "cell_type": "code",
   "execution_count": 28,
   "metadata": {},
   "outputs": [
    {
     "name": "stdout",
     "output_type": "stream",
     "text": [
      "((1, 2, 3), (4, 5, 6), (7, 8, 9))\n"
     ]
    }
   ],
   "source": [
    "a = ((1,2,3),(4,5,6),(7,8,9))\n",
    "print(a)"
   ]
  },
  {
   "cell_type": "code",
   "execution_count": 29,
   "metadata": {},
   "outputs": [
    {
     "name": "stdout",
     "output_type": "stream",
     "text": [
      "Enter n = 2\n",
      "Enter name = Shristi\n",
      "Enter no = 98523641\n",
      "Enter name = Ameera\n",
      "Enter no = 986532\n",
      "(('Shristi', 98523641), ('Ameera', 986532))\n"
     ]
    }
   ],
   "source": [
    "data = ()\n",
    "n = int(input(\"Enter n = \"))\n",
    "for i in range(n):\n",
    "    name = input(\"Enter name = \")\n",
    "    no= int(input(\"Enter no = \"))\n",
    "    info = (name,no)\n",
    "    data= data+(info,)\n",
    "print(data)"
   ]
  },
  {
   "cell_type": "code",
   "execution_count": 31,
   "metadata": {},
   "outputs": [
    {
     "name": "stdout",
     "output_type": "stream",
     "text": [
      "(('Shristi', 98523641), ('Ameera', 986532))\n"
     ]
    },
    {
     "data": {
      "text/plain": [
       "[('Shristi', 98523641), ('Ameera', 986532)]"
      ]
     },
     "execution_count": 31,
     "metadata": {},
     "output_type": "execute_result"
    }
   ],
   "source": [
    "a = (('Shristi', 98523641), ('Ameera', 986532))\n",
    "print(a)\n",
    "list(a)"
   ]
  },
  {
   "cell_type": "code",
   "execution_count": 32,
   "metadata": {},
   "outputs": [
    {
     "name": "stdout",
     "output_type": "stream",
     "text": [
      "[['Shristi', 98523641], ['Ameera', 986532]]\n"
     ]
    }
   ],
   "source": [
    "list_inside_list = []\n",
    "a = (('Shristi', 98523641), ('Ameera', 986532))\n",
    "for i in a:\n",
    "    x = list(i)\n",
    "    list_inside_list.append(x)\n",
    "    \n",
    "print(list_inside_list)"
   ]
  },
  {
   "cell_type": "code",
   "execution_count": 34,
   "metadata": {},
   "outputs": [
    {
     "name": "stdout",
     "output_type": "stream",
     "text": [
      "[('Ram Prasad', 9867665654), ('Ameera', 986532)]\n"
     ]
    }
   ],
   "source": [
    "a = [('Shristi', 98523641), ('Ameera', 986532)]\n",
    "a[0] = (\"Ram Prasad\",9867665654)\n",
    "print(a)"
   ]
  },
  {
   "cell_type": "code",
   "execution_count": 38,
   "metadata": {},
   "outputs": [
    {
     "name": "stdout",
     "output_type": "stream",
     "text": [
      "['Ram Prasad', ('Ameera', 986532)]\n"
     ]
    }
   ],
   "source": [
    "a =[('Shristi', 98523641), ('Ameera', 986532)]\n",
    "a[0]= \"Ram Prasad\"\n",
    "print(a)"
   ]
  },
  {
   "cell_type": "code",
   "execution_count": 39,
   "metadata": {},
   "outputs": [
    {
     "name": "stdout",
     "output_type": "stream",
     "text": [
      "[('Ram', 7887), ('Shyam', 8689989), ('Shyam', 9867665654)]\n"
     ]
    }
   ],
   "source": [
    "a = [('Ram', 7887), ('Shyam', 8689989)]\n",
    "a.append((\"Shyam\",9867665654))\n",
    "print(a)"
   ]
  },
  {
   "cell_type": "code",
   "execution_count": 40,
   "metadata": {},
   "outputs": [
    {
     "name": "stdout",
     "output_type": "stream",
     "text": [
      "(['Ram', 9841676654, 9808556543], ['Shyam', 9843757689])\n"
     ]
    }
   ],
   "source": [
    "a = (['Ram', 9841676654], ['Shyam', 9843757689])\n",
    "a[0].append(9808556543)\n",
    "print(a)"
   ]
  },
  {
   "cell_type": "code",
   "execution_count": null,
   "metadata": {},
   "outputs": [],
   "source": []
  }
 ],
 "metadata": {
  "kernelspec": {
   "display_name": "Python 3",
   "language": "python",
   "name": "python3"
  },
  "language_info": {
   "codemirror_mode": {
    "name": "ipython",
    "version": 3
   },
   "file_extension": ".py",
   "mimetype": "text/x-python",
   "name": "python",
   "nbconvert_exporter": "python",
   "pygments_lexer": "ipython3",
   "version": "3.8.6"
  }
 },
 "nbformat": 4,
 "nbformat_minor": 4
}
